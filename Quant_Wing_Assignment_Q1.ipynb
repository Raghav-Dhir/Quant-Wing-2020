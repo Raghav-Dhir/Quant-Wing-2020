{
  "nbformat": 4,
  "nbformat_minor": 0,
  "metadata": {
    "colab": {
      "name": "Quant Wing Assignment Q1.ipynb",
      "provenance": []
    },
    "kernelspec": {
      "name": "python3",
      "display_name": "Python 3"
    }
  },
  "cells": [
    {
      "cell_type": "code",
      "metadata": {
        "id": "VoUElJy7qeS6",
        "colab_type": "code",
        "colab": {}
      },
      "source": [
        "import numpy as np\n",
        "import math"
      ],
      "execution_count": 1,
      "outputs": []
    },
    {
      "cell_type": "code",
      "metadata": {
        "id": "4xDqK6uBAJ2C",
        "colab_type": "code",
        "colab": {}
      },
      "source": [
        "def binomial_model (n, t, sigma, S0, k, r, is_call=True):\n",
        "  \"\"\" \n",
        "  n = no. of divisions\n",
        "  t = time \n",
        "  u = factor change in up condition\n",
        "  q = risk free probability of up condition\n",
        "  sigma = volatility\n",
        "  S0 = spot price\n",
        "  k = some constant price\n",
        "  r = annual risk free rate\n",
        "  \"\"\"\n",
        "  dt = t/n\n",
        "  u = math.exp(sigma*math.sqrt(dt))\n",
        "  d = 1/u #factor change in down condition\n",
        "  q = (math.exp(r*dt)-d)/(u-d)\n",
        "  stocktree = np.zeros([n+1, n+1])\n",
        "  for i in range(n+1):\n",
        "    for j in range(n+1):\n",
        "      stocktree[j, i] = S0*(u**(i-j))*(d**j)\n",
        "  \n",
        "  #calculating option price\n",
        "  option = np.zeros([n+1, n+1])\n",
        "  if is_call:\n",
        "    option[: , n] = np.maximum(np.zeros(n+1), stocktree[:, n]-k)\n",
        "  else:\n",
        "    option[: , n] = np.maximum(np.zeros(n+1), k-stocktree[:, n])\n",
        "  \n",
        "  #calculating at time=0\n",
        "  for i in np.arange(n-1 ,-1,-1 ):\n",
        "    for j in np.arange(0, i+1):\n",
        "      option[j,i] = np.exp(-r*dt)*(q*option[j, i+1]+(1-q)*option[j+1, i+1])\n",
        "  \n",
        "  \n",
        "  return option[0,0]\n",
        "  "
      ],
      "execution_count": 2,
      "outputs": []
    },
    {
      "cell_type": "code",
      "metadata": {
        "id": "SXpzrwZ4qh88",
        "colab_type": "code",
        "colab": {
          "base_uri": "https://localhost:8080/",
          "height": 34
        },
        "outputId": "758bf2c7-cf2e-4b8f-af1e-fd2e9d87f826"
      },
      "source": [
        "binomial_model(50, 1, 0.1, 100, 100, 0.05, is_call=True)"
      ],
      "execution_count": 3,
      "outputs": [
        {
          "output_type": "execute_result",
          "data": {
            "text/plain": [
              "6.783564165691301"
            ]
          },
          "metadata": {
            "tags": []
          },
          "execution_count": 3
        }
      ]
    },
    {
      "cell_type": "code",
      "metadata": {
        "id": "quUB_OSfEwHo",
        "colab_type": "code",
        "colab": {}
      },
      "source": [
        ""
      ],
      "execution_count": 3,
      "outputs": []
    }
  ]
}