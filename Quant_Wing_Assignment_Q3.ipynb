{
  "nbformat": 4,
  "nbformat_minor": 0,
  "metadata": {
    "kernelspec": {
      "display_name": "Python 3",
      "language": "python",
      "name": "python3"
    },
    "language_info": {
      "codemirror_mode": {
        "name": "ipython",
        "version": 3
      },
      "file_extension": ".py",
      "mimetype": "text/x-python",
      "name": "python",
      "nbconvert_exporter": "python",
      "pygments_lexer": "ipython3",
      "version": "3.8.2"
    },
    "colab": {
      "name": "Quant Wing Assignment Q3.ipynb",
      "provenance": []
    }
  },
  "cells": [
    {
      "cell_type": "code",
      "metadata": {
        "id": "jLTexZ25_mBl",
        "colab_type": "code",
        "colab": {
          "base_uri": "https://localhost:8080/",
          "height": 70
        },
        "outputId": "8b091bf7-8da2-4ba7-e154-648ee0fca8d2"
      },
      "source": [
        "import pandas_datareader.data as pdr\n",
        "import datetime as dt\n",
        "import pandas as pd\n",
        "import seaborn as sns\n",
        "import numpy as np\n",
        "import matplotlib.pyplot as plt\n",
        "%matplotlib inline"
      ],
      "execution_count": 1,
      "outputs": [
        {
          "output_type": "stream",
          "text": [
            "/usr/local/lib/python3.6/dist-packages/pandas_datareader/compat/__init__.py:7: FutureWarning: pandas.util.testing is deprecated. Use the functions in the public API at pandas.testing instead.\n",
            "  from pandas.util.testing import assert_frame_equal\n"
          ],
          "name": "stderr"
        }
      ]
    },
    {
      "cell_type": "code",
      "metadata": {
        "id": "Ly5LvScX_mBs",
        "colab_type": "code",
        "colab": {}
      },
      "source": [
        "tickers = ['MSFT', 'AAPL','AMZN','GOOG','GOOGL','FB','JNJ','V','PG','JPM','UNH','MA','INTC','VZ','HD','T','PFE','MRK','PEP'] # Enter all the tickers whose data you require\n",
        "stock_cp = pd.DataFrame()\n",
        "start_date = dt.date.today() - dt.timedelta(365)  # Enter the Startdate in the form of datetime.date()\n",
        "end_date = dt.date.today() # Enter the End Date in the form of datetime.date()\n",
        "drop = []\n",
        "while len(tickers) != 0:\n",
        "    tickers = [j for j in tickers if j not in drop]\n",
        "    for i in range(len(tickers)):\n",
        "        temp = pdr.get_data_yahoo(tickers[i],start_date,end_date)\n",
        "        temp.dropna(inplace = True)\n",
        "        stock_cp[tickers[i]] = temp['Adj Close']\n",
        "        drop.append(tickers[i])"
      ],
      "execution_count": 2,
      "outputs": []
    },
    {
      "cell_type": "code",
      "metadata": {
        "id": "t9yO43it_mBv",
        "colab_type": "code",
        "colab": {
          "base_uri": "https://localhost:8080/",
          "height": 619
        },
        "outputId": "59ea7447-4110-4d8d-adc4-3802105f3df0"
      },
      "source": [
        "stock_cp"
      ],
      "execution_count": 3,
      "outputs": [
        {
          "output_type": "execute_result",
          "data": {
            "text/html": [
              "<div>\n",
              "<style scoped>\n",
              "    .dataframe tbody tr th:only-of-type {\n",
              "        vertical-align: middle;\n",
              "    }\n",
              "\n",
              "    .dataframe tbody tr th {\n",
              "        vertical-align: top;\n",
              "    }\n",
              "\n",
              "    .dataframe thead th {\n",
              "        text-align: right;\n",
              "    }\n",
              "</style>\n",
              "<table border=\"1\" class=\"dataframe\">\n",
              "  <thead>\n",
              "    <tr style=\"text-align: right;\">\n",
              "      <th></th>\n",
              "      <th>MSFT</th>\n",
              "      <th>AAPL</th>\n",
              "      <th>AMZN</th>\n",
              "      <th>GOOG</th>\n",
              "      <th>GOOGL</th>\n",
              "      <th>FB</th>\n",
              "      <th>JNJ</th>\n",
              "      <th>V</th>\n",
              "      <th>PG</th>\n",
              "      <th>JPM</th>\n",
              "      <th>UNH</th>\n",
              "      <th>MA</th>\n",
              "      <th>INTC</th>\n",
              "      <th>VZ</th>\n",
              "      <th>HD</th>\n",
              "      <th>T</th>\n",
              "      <th>PFE</th>\n",
              "      <th>MRK</th>\n",
              "      <th>PEP</th>\n",
              "    </tr>\n",
              "    <tr>\n",
              "      <th>Date</th>\n",
              "      <th></th>\n",
              "      <th></th>\n",
              "      <th></th>\n",
              "      <th></th>\n",
              "      <th></th>\n",
              "      <th></th>\n",
              "      <th></th>\n",
              "      <th></th>\n",
              "      <th></th>\n",
              "      <th></th>\n",
              "      <th></th>\n",
              "      <th></th>\n",
              "      <th></th>\n",
              "      <th></th>\n",
              "      <th></th>\n",
              "      <th></th>\n",
              "      <th></th>\n",
              "      <th></th>\n",
              "      <th></th>\n",
              "    </tr>\n",
              "  </thead>\n",
              "  <tbody>\n",
              "    <tr>\n",
              "      <th>2019-08-13</th>\n",
              "      <td>136.915222</td>\n",
              "      <td>206.917007</td>\n",
              "      <td>1824.339966</td>\n",
              "      <td>1197.270020</td>\n",
              "      <td>1196.729980</td>\n",
              "      <td>188.449997</td>\n",
              "      <td>129.783493</td>\n",
              "      <td>177.499710</td>\n",
              "      <td>114.328949</td>\n",
              "      <td>105.641266</td>\n",
              "      <td>244.979446</td>\n",
              "      <td>273.044373</td>\n",
              "      <td>45.784016</td>\n",
              "      <td>54.020737</td>\n",
              "      <td>203.169037</td>\n",
              "      <td>32.775654</td>\n",
              "      <td>33.839272</td>\n",
              "      <td>83.569199</td>\n",
              "      <td>126.300949</td>\n",
              "    </tr>\n",
              "    <tr>\n",
              "      <th>2019-08-14</th>\n",
              "      <td>132.792084</td>\n",
              "      <td>200.758102</td>\n",
              "      <td>1762.959961</td>\n",
              "      <td>1164.290039</td>\n",
              "      <td>1164.250000</td>\n",
              "      <td>179.710007</td>\n",
              "      <td>126.709618</td>\n",
              "      <td>172.431396</td>\n",
              "      <td>112.905327</td>\n",
              "      <td>101.254845</td>\n",
              "      <td>239.061874</td>\n",
              "      <td>265.704315</td>\n",
              "      <td>44.835884</td>\n",
              "      <td>53.397827</td>\n",
              "      <td>196.596008</td>\n",
              "      <td>32.051693</td>\n",
              "      <td>32.916386</td>\n",
              "      <td>80.967384</td>\n",
              "      <td>125.513580</td>\n",
              "    </tr>\n",
              "    <tr>\n",
              "      <th>2019-08-15</th>\n",
              "      <td>132.494751</td>\n",
              "      <td>199.758026</td>\n",
              "      <td>1776.119995</td>\n",
              "      <td>1167.260010</td>\n",
              "      <td>1169.319946</td>\n",
              "      <td>182.589996</td>\n",
              "      <td>126.981995</td>\n",
              "      <td>175.427017</td>\n",
              "      <td>114.465462</td>\n",
              "      <td>101.641304</td>\n",
              "      <td>240.093994</td>\n",
              "      <td>270.418701</td>\n",
              "      <td>44.669716</td>\n",
              "      <td>53.953655</td>\n",
              "      <td>196.791046</td>\n",
              "      <td>32.286747</td>\n",
              "      <td>33.147110</td>\n",
              "      <td>81.025620</td>\n",
              "      <td>127.068901</td>\n",
              "    </tr>\n",
              "    <tr>\n",
              "      <th>2019-08-16</th>\n",
              "      <td>134.923050</td>\n",
              "      <td>204.471252</td>\n",
              "      <td>1792.569946</td>\n",
              "      <td>1177.599976</td>\n",
              "      <td>1179.209961</td>\n",
              "      <td>183.699997</td>\n",
              "      <td>127.779648</td>\n",
              "      <td>177.377640</td>\n",
              "      <td>116.210869</td>\n",
              "      <td>104.076073</td>\n",
              "      <td>241.509521</td>\n",
              "      <td>272.875305</td>\n",
              "      <td>45.451683</td>\n",
              "      <td>54.289070</td>\n",
              "      <td>198.604965</td>\n",
              "      <td>32.879078</td>\n",
              "      <td>33.310535</td>\n",
              "      <td>82.578949</td>\n",
              "      <td>128.079849</td>\n",
              "    </tr>\n",
              "    <tr>\n",
              "      <th>2019-08-19</th>\n",
              "      <td>137.182831</td>\n",
              "      <td>208.283447</td>\n",
              "      <td>1816.119995</td>\n",
              "      <td>1198.449951</td>\n",
              "      <td>1200.439941</td>\n",
              "      <td>186.169998</td>\n",
              "      <td>128.645386</td>\n",
              "      <td>178.880417</td>\n",
              "      <td>117.244461</td>\n",
              "      <td>105.013260</td>\n",
              "      <td>240.546204</td>\n",
              "      <td>276.565216</td>\n",
              "      <td>46.165222</td>\n",
              "      <td>54.624485</td>\n",
              "      <td>202.798447</td>\n",
              "      <td>33.264565</td>\n",
              "      <td>33.820045</td>\n",
              "      <td>83.675987</td>\n",
              "      <td>128.867218</td>\n",
              "    </tr>\n",
              "    <tr>\n",
              "      <th>...</th>\n",
              "      <td>...</td>\n",
              "      <td>...</td>\n",
              "      <td>...</td>\n",
              "      <td>...</td>\n",
              "      <td>...</td>\n",
              "      <td>...</td>\n",
              "      <td>...</td>\n",
              "      <td>...</td>\n",
              "      <td>...</td>\n",
              "      <td>...</td>\n",
              "      <td>...</td>\n",
              "      <td>...</td>\n",
              "      <td>...</td>\n",
              "      <td>...</td>\n",
              "      <td>...</td>\n",
              "      <td>...</td>\n",
              "      <td>...</td>\n",
              "      <td>...</td>\n",
              "      <td>...</td>\n",
              "    </tr>\n",
              "    <tr>\n",
              "      <th>2020-08-06</th>\n",
              "      <td>216.350006</td>\n",
              "      <td>454.790009</td>\n",
              "      <td>3225.000000</td>\n",
              "      <td>1500.099976</td>\n",
              "      <td>1504.949951</td>\n",
              "      <td>265.279999</td>\n",
              "      <td>147.550003</td>\n",
              "      <td>198.770004</td>\n",
              "      <td>132.710007</td>\n",
              "      <td>97.239998</td>\n",
              "      <td>314.059998</td>\n",
              "      <td>330.140015</td>\n",
              "      <td>48.570000</td>\n",
              "      <td>57.830002</td>\n",
              "      <td>269.369995</td>\n",
              "      <td>29.840000</td>\n",
              "      <td>38.270000</td>\n",
              "      <td>81.050003</td>\n",
              "      <td>135.860001</td>\n",
              "    </tr>\n",
              "    <tr>\n",
              "      <th>2020-08-07</th>\n",
              "      <td>212.479996</td>\n",
              "      <td>444.450012</td>\n",
              "      <td>3167.459961</td>\n",
              "      <td>1494.489990</td>\n",
              "      <td>1498.369995</td>\n",
              "      <td>268.440002</td>\n",
              "      <td>148.600006</td>\n",
              "      <td>196.360001</td>\n",
              "      <td>133.550003</td>\n",
              "      <td>99.379997</td>\n",
              "      <td>317.029999</td>\n",
              "      <td>328.019989</td>\n",
              "      <td>48.029999</td>\n",
              "      <td>58.529999</td>\n",
              "      <td>271.640015</td>\n",
              "      <td>30.020000</td>\n",
              "      <td>38.450001</td>\n",
              "      <td>81.019997</td>\n",
              "      <td>136.740005</td>\n",
              "    </tr>\n",
              "    <tr>\n",
              "      <th>2020-08-10</th>\n",
              "      <td>208.250000</td>\n",
              "      <td>450.910004</td>\n",
              "      <td>3148.159912</td>\n",
              "      <td>1496.099976</td>\n",
              "      <td>1496.819946</td>\n",
              "      <td>263.000000</td>\n",
              "      <td>148.029999</td>\n",
              "      <td>196.789993</td>\n",
              "      <td>134.100006</td>\n",
              "      <td>100.639999</td>\n",
              "      <td>319.100006</td>\n",
              "      <td>322.880005</td>\n",
              "      <td>49.220001</td>\n",
              "      <td>58.990002</td>\n",
              "      <td>274.730011</td>\n",
              "      <td>30.200001</td>\n",
              "      <td>38.389999</td>\n",
              "      <td>80.910004</td>\n",
              "      <td>135.979996</td>\n",
              "    </tr>\n",
              "    <tr>\n",
              "      <th>2020-08-11</th>\n",
              "      <td>203.380005</td>\n",
              "      <td>437.500000</td>\n",
              "      <td>3080.669922</td>\n",
              "      <td>1480.319946</td>\n",
              "      <td>1480.540039</td>\n",
              "      <td>256.130005</td>\n",
              "      <td>146.970001</td>\n",
              "      <td>197.770004</td>\n",
              "      <td>133.229996</td>\n",
              "      <td>103.820000</td>\n",
              "      <td>315.549988</td>\n",
              "      <td>328.540009</td>\n",
              "      <td>48.189999</td>\n",
              "      <td>58.509998</td>\n",
              "      <td>274.920013</td>\n",
              "      <td>30.200001</td>\n",
              "      <td>37.790001</td>\n",
              "      <td>80.910004</td>\n",
              "      <td>135.119995</td>\n",
              "    </tr>\n",
              "    <tr>\n",
              "      <th>2020-08-12</th>\n",
              "      <td>209.259995</td>\n",
              "      <td>449.109985</td>\n",
              "      <td>3148.850098</td>\n",
              "      <td>1506.944946</td>\n",
              "      <td>1507.119995</td>\n",
              "      <td>261.250000</td>\n",
              "      <td>149.210007</td>\n",
              "      <td>198.804993</td>\n",
              "      <td>135.389999</td>\n",
              "      <td>102.830002</td>\n",
              "      <td>321.579987</td>\n",
              "      <td>327.135010</td>\n",
              "      <td>48.790001</td>\n",
              "      <td>58.665001</td>\n",
              "      <td>280.309998</td>\n",
              "      <td>30.165001</td>\n",
              "      <td>38.302502</td>\n",
              "      <td>82.500000</td>\n",
              "      <td>137.470001</td>\n",
              "    </tr>\n",
              "  </tbody>\n",
              "</table>\n",
              "<p>253 rows × 19 columns</p>\n",
              "</div>"
            ],
            "text/plain": [
              "                  MSFT        AAPL  ...        MRK         PEP\n",
              "Date                                ...                       \n",
              "2019-08-13  136.915222  206.917007  ...  83.569199  126.300949\n",
              "2019-08-14  132.792084  200.758102  ...  80.967384  125.513580\n",
              "2019-08-15  132.494751  199.758026  ...  81.025620  127.068901\n",
              "2019-08-16  134.923050  204.471252  ...  82.578949  128.079849\n",
              "2019-08-19  137.182831  208.283447  ...  83.675987  128.867218\n",
              "...                ...         ...  ...        ...         ...\n",
              "2020-08-06  216.350006  454.790009  ...  81.050003  135.860001\n",
              "2020-08-07  212.479996  444.450012  ...  81.019997  136.740005\n",
              "2020-08-10  208.250000  450.910004  ...  80.910004  135.979996\n",
              "2020-08-11  203.380005  437.500000  ...  80.910004  135.119995\n",
              "2020-08-12  209.259995  449.109985  ...  82.500000  137.470001\n",
              "\n",
              "[253 rows x 19 columns]"
            ]
          },
          "metadata": {
            "tags": []
          },
          "execution_count": 3
        }
      ]
    },
    {
      "cell_type": "code",
      "metadata": {
        "id": "ymkiTspl_mBz",
        "colab_type": "code",
        "colab": {}
      },
      "source": [
        "BRK = pd.read_csv('BRK-B.csv', index_col='Date', parse_dates=True)"
      ],
      "execution_count": 4,
      "outputs": []
    },
    {
      "cell_type": "code",
      "metadata": {
        "id": "SzXwRZKB_mB2",
        "colab_type": "code",
        "colab": {}
      },
      "source": [
        "stock_cp['BRK'] = BRK['Adj Close']"
      ],
      "execution_count": 5,
      "outputs": []
    },
    {
      "cell_type": "code",
      "metadata": {
        "id": "tWax780A_mB6",
        "colab_type": "code",
        "colab": {
          "base_uri": "https://localhost:8080/",
          "height": 619
        },
        "outputId": "a675b543-d833-4d4d-e71b-ab3faca4c43e"
      },
      "source": [
        "stock_cp"
      ],
      "execution_count": 6,
      "outputs": [
        {
          "output_type": "execute_result",
          "data": {
            "text/html": [
              "<div>\n",
              "<style scoped>\n",
              "    .dataframe tbody tr th:only-of-type {\n",
              "        vertical-align: middle;\n",
              "    }\n",
              "\n",
              "    .dataframe tbody tr th {\n",
              "        vertical-align: top;\n",
              "    }\n",
              "\n",
              "    .dataframe thead th {\n",
              "        text-align: right;\n",
              "    }\n",
              "</style>\n",
              "<table border=\"1\" class=\"dataframe\">\n",
              "  <thead>\n",
              "    <tr style=\"text-align: right;\">\n",
              "      <th></th>\n",
              "      <th>MSFT</th>\n",
              "      <th>AAPL</th>\n",
              "      <th>AMZN</th>\n",
              "      <th>GOOG</th>\n",
              "      <th>GOOGL</th>\n",
              "      <th>FB</th>\n",
              "      <th>JNJ</th>\n",
              "      <th>V</th>\n",
              "      <th>PG</th>\n",
              "      <th>JPM</th>\n",
              "      <th>UNH</th>\n",
              "      <th>MA</th>\n",
              "      <th>INTC</th>\n",
              "      <th>VZ</th>\n",
              "      <th>HD</th>\n",
              "      <th>T</th>\n",
              "      <th>PFE</th>\n",
              "      <th>MRK</th>\n",
              "      <th>PEP</th>\n",
              "      <th>BRK</th>\n",
              "    </tr>\n",
              "    <tr>\n",
              "      <th>Date</th>\n",
              "      <th></th>\n",
              "      <th></th>\n",
              "      <th></th>\n",
              "      <th></th>\n",
              "      <th></th>\n",
              "      <th></th>\n",
              "      <th></th>\n",
              "      <th></th>\n",
              "      <th></th>\n",
              "      <th></th>\n",
              "      <th></th>\n",
              "      <th></th>\n",
              "      <th></th>\n",
              "      <th></th>\n",
              "      <th></th>\n",
              "      <th></th>\n",
              "      <th></th>\n",
              "      <th></th>\n",
              "      <th></th>\n",
              "      <th></th>\n",
              "    </tr>\n",
              "  </thead>\n",
              "  <tbody>\n",
              "    <tr>\n",
              "      <th>2019-08-13</th>\n",
              "      <td>136.915222</td>\n",
              "      <td>206.917007</td>\n",
              "      <td>1824.339966</td>\n",
              "      <td>1197.270020</td>\n",
              "      <td>1196.729980</td>\n",
              "      <td>188.449997</td>\n",
              "      <td>129.783493</td>\n",
              "      <td>177.499710</td>\n",
              "      <td>114.328949</td>\n",
              "      <td>105.641266</td>\n",
              "      <td>244.979446</td>\n",
              "      <td>273.044373</td>\n",
              "      <td>45.784016</td>\n",
              "      <td>54.020737</td>\n",
              "      <td>203.169037</td>\n",
              "      <td>32.775654</td>\n",
              "      <td>33.839272</td>\n",
              "      <td>83.569199</td>\n",
              "      <td>126.300949</td>\n",
              "      <td>198.779999</td>\n",
              "    </tr>\n",
              "    <tr>\n",
              "      <th>2019-08-14</th>\n",
              "      <td>132.792084</td>\n",
              "      <td>200.758102</td>\n",
              "      <td>1762.959961</td>\n",
              "      <td>1164.290039</td>\n",
              "      <td>1164.250000</td>\n",
              "      <td>179.710007</td>\n",
              "      <td>126.709618</td>\n",
              "      <td>172.431396</td>\n",
              "      <td>112.905327</td>\n",
              "      <td>101.254845</td>\n",
              "      <td>239.061874</td>\n",
              "      <td>265.704315</td>\n",
              "      <td>44.835884</td>\n",
              "      <td>53.397827</td>\n",
              "      <td>196.596008</td>\n",
              "      <td>32.051693</td>\n",
              "      <td>32.916386</td>\n",
              "      <td>80.967384</td>\n",
              "      <td>125.513580</td>\n",
              "      <td>195.809998</td>\n",
              "    </tr>\n",
              "    <tr>\n",
              "      <th>2019-08-15</th>\n",
              "      <td>132.494751</td>\n",
              "      <td>199.758026</td>\n",
              "      <td>1776.119995</td>\n",
              "      <td>1167.260010</td>\n",
              "      <td>1169.319946</td>\n",
              "      <td>182.589996</td>\n",
              "      <td>126.981995</td>\n",
              "      <td>175.427017</td>\n",
              "      <td>114.465462</td>\n",
              "      <td>101.641304</td>\n",
              "      <td>240.093994</td>\n",
              "      <td>270.418701</td>\n",
              "      <td>44.669716</td>\n",
              "      <td>53.953655</td>\n",
              "      <td>196.791046</td>\n",
              "      <td>32.286747</td>\n",
              "      <td>33.147110</td>\n",
              "      <td>81.025620</td>\n",
              "      <td>127.068901</td>\n",
              "      <td>198.309998</td>\n",
              "    </tr>\n",
              "    <tr>\n",
              "      <th>2019-08-16</th>\n",
              "      <td>134.923050</td>\n",
              "      <td>204.471252</td>\n",
              "      <td>1792.569946</td>\n",
              "      <td>1177.599976</td>\n",
              "      <td>1179.209961</td>\n",
              "      <td>183.699997</td>\n",
              "      <td>127.779648</td>\n",
              "      <td>177.377640</td>\n",
              "      <td>116.210869</td>\n",
              "      <td>104.076073</td>\n",
              "      <td>241.509521</td>\n",
              "      <td>272.875305</td>\n",
              "      <td>45.451683</td>\n",
              "      <td>54.289070</td>\n",
              "      <td>198.604965</td>\n",
              "      <td>32.879078</td>\n",
              "      <td>33.310535</td>\n",
              "      <td>82.578949</td>\n",
              "      <td>128.079849</td>\n",
              "      <td>199.720001</td>\n",
              "    </tr>\n",
              "    <tr>\n",
              "      <th>2019-08-19</th>\n",
              "      <td>137.182831</td>\n",
              "      <td>208.283447</td>\n",
              "      <td>1816.119995</td>\n",
              "      <td>1198.449951</td>\n",
              "      <td>1200.439941</td>\n",
              "      <td>186.169998</td>\n",
              "      <td>128.645386</td>\n",
              "      <td>178.880417</td>\n",
              "      <td>117.244461</td>\n",
              "      <td>105.013260</td>\n",
              "      <td>240.546204</td>\n",
              "      <td>276.565216</td>\n",
              "      <td>46.165222</td>\n",
              "      <td>54.624485</td>\n",
              "      <td>202.798447</td>\n",
              "      <td>33.264565</td>\n",
              "      <td>33.820045</td>\n",
              "      <td>83.675987</td>\n",
              "      <td>128.867218</td>\n",
              "      <td>200.940002</td>\n",
              "    </tr>\n",
              "    <tr>\n",
              "      <th>...</th>\n",
              "      <td>...</td>\n",
              "      <td>...</td>\n",
              "      <td>...</td>\n",
              "      <td>...</td>\n",
              "      <td>...</td>\n",
              "      <td>...</td>\n",
              "      <td>...</td>\n",
              "      <td>...</td>\n",
              "      <td>...</td>\n",
              "      <td>...</td>\n",
              "      <td>...</td>\n",
              "      <td>...</td>\n",
              "      <td>...</td>\n",
              "      <td>...</td>\n",
              "      <td>...</td>\n",
              "      <td>...</td>\n",
              "      <td>...</td>\n",
              "      <td>...</td>\n",
              "      <td>...</td>\n",
              "      <td>...</td>\n",
              "    </tr>\n",
              "    <tr>\n",
              "      <th>2020-08-06</th>\n",
              "      <td>216.350006</td>\n",
              "      <td>454.790009</td>\n",
              "      <td>3225.000000</td>\n",
              "      <td>1500.099976</td>\n",
              "      <td>1504.949951</td>\n",
              "      <td>265.279999</td>\n",
              "      <td>147.550003</td>\n",
              "      <td>198.770004</td>\n",
              "      <td>132.710007</td>\n",
              "      <td>97.239998</td>\n",
              "      <td>314.059998</td>\n",
              "      <td>330.140015</td>\n",
              "      <td>48.570000</td>\n",
              "      <td>57.830002</td>\n",
              "      <td>269.369995</td>\n",
              "      <td>29.840000</td>\n",
              "      <td>38.270000</td>\n",
              "      <td>81.050003</td>\n",
              "      <td>135.860001</td>\n",
              "      <td>205.020004</td>\n",
              "    </tr>\n",
              "    <tr>\n",
              "      <th>2020-08-07</th>\n",
              "      <td>212.479996</td>\n",
              "      <td>444.450012</td>\n",
              "      <td>3167.459961</td>\n",
              "      <td>1494.489990</td>\n",
              "      <td>1498.369995</td>\n",
              "      <td>268.440002</td>\n",
              "      <td>148.600006</td>\n",
              "      <td>196.360001</td>\n",
              "      <td>133.550003</td>\n",
              "      <td>99.379997</td>\n",
              "      <td>317.029999</td>\n",
              "      <td>328.019989</td>\n",
              "      <td>48.029999</td>\n",
              "      <td>58.529999</td>\n",
              "      <td>271.640015</td>\n",
              "      <td>30.020000</td>\n",
              "      <td>38.450001</td>\n",
              "      <td>81.019997</td>\n",
              "      <td>136.740005</td>\n",
              "      <td>209.479996</td>\n",
              "    </tr>\n",
              "    <tr>\n",
              "      <th>2020-08-10</th>\n",
              "      <td>208.250000</td>\n",
              "      <td>450.910004</td>\n",
              "      <td>3148.159912</td>\n",
              "      <td>1496.099976</td>\n",
              "      <td>1496.819946</td>\n",
              "      <td>263.000000</td>\n",
              "      <td>148.029999</td>\n",
              "      <td>196.789993</td>\n",
              "      <td>134.100006</td>\n",
              "      <td>100.639999</td>\n",
              "      <td>319.100006</td>\n",
              "      <td>322.880005</td>\n",
              "      <td>49.220001</td>\n",
              "      <td>58.990002</td>\n",
              "      <td>274.730011</td>\n",
              "      <td>30.200001</td>\n",
              "      <td>38.389999</td>\n",
              "      <td>80.910004</td>\n",
              "      <td>135.979996</td>\n",
              "      <td>212.580002</td>\n",
              "    </tr>\n",
              "    <tr>\n",
              "      <th>2020-08-11</th>\n",
              "      <td>203.380005</td>\n",
              "      <td>437.500000</td>\n",
              "      <td>3080.669922</td>\n",
              "      <td>1480.319946</td>\n",
              "      <td>1480.540039</td>\n",
              "      <td>256.130005</td>\n",
              "      <td>146.970001</td>\n",
              "      <td>197.770004</td>\n",
              "      <td>133.229996</td>\n",
              "      <td>103.820000</td>\n",
              "      <td>315.549988</td>\n",
              "      <td>328.540009</td>\n",
              "      <td>48.189999</td>\n",
              "      <td>58.509998</td>\n",
              "      <td>274.920013</td>\n",
              "      <td>30.200001</td>\n",
              "      <td>37.790001</td>\n",
              "      <td>80.910004</td>\n",
              "      <td>135.119995</td>\n",
              "      <td>212.660004</td>\n",
              "    </tr>\n",
              "    <tr>\n",
              "      <th>2020-08-12</th>\n",
              "      <td>209.259995</td>\n",
              "      <td>449.109985</td>\n",
              "      <td>3148.850098</td>\n",
              "      <td>1506.944946</td>\n",
              "      <td>1507.119995</td>\n",
              "      <td>261.250000</td>\n",
              "      <td>149.210007</td>\n",
              "      <td>198.804993</td>\n",
              "      <td>135.389999</td>\n",
              "      <td>102.830002</td>\n",
              "      <td>321.579987</td>\n",
              "      <td>327.135010</td>\n",
              "      <td>48.790001</td>\n",
              "      <td>58.665001</td>\n",
              "      <td>280.309998</td>\n",
              "      <td>30.165001</td>\n",
              "      <td>38.302502</td>\n",
              "      <td>82.500000</td>\n",
              "      <td>137.470001</td>\n",
              "      <td>NaN</td>\n",
              "    </tr>\n",
              "  </tbody>\n",
              "</table>\n",
              "<p>253 rows × 20 columns</p>\n",
              "</div>"
            ],
            "text/plain": [
              "                  MSFT        AAPL  ...         PEP         BRK\n",
              "Date                                ...                        \n",
              "2019-08-13  136.915222  206.917007  ...  126.300949  198.779999\n",
              "2019-08-14  132.792084  200.758102  ...  125.513580  195.809998\n",
              "2019-08-15  132.494751  199.758026  ...  127.068901  198.309998\n",
              "2019-08-16  134.923050  204.471252  ...  128.079849  199.720001\n",
              "2019-08-19  137.182831  208.283447  ...  128.867218  200.940002\n",
              "...                ...         ...  ...         ...         ...\n",
              "2020-08-06  216.350006  454.790009  ...  135.860001  205.020004\n",
              "2020-08-07  212.479996  444.450012  ...  136.740005  209.479996\n",
              "2020-08-10  208.250000  450.910004  ...  135.979996  212.580002\n",
              "2020-08-11  203.380005  437.500000  ...  135.119995  212.660004\n",
              "2020-08-12  209.259995  449.109985  ...  137.470001         NaN\n",
              "\n",
              "[253 rows x 20 columns]"
            ]
          },
          "metadata": {
            "tags": []
          },
          "execution_count": 6
        }
      ]
    },
    {
      "cell_type": "code",
      "metadata": {
        "id": "eVx-AQZ2_mB9",
        "colab_type": "code",
        "colab": {}
      },
      "source": [
        "corr = stock_cp.pct_change(1).corr()"
      ],
      "execution_count": 7,
      "outputs": []
    },
    {
      "cell_type": "code",
      "metadata": {
        "id": "hBYMx-zIBI_M",
        "colab_type": "code",
        "colab": {
          "base_uri": "https://localhost:8080/",
          "height": 659
        },
        "outputId": "af12373d-111a-417a-91a6-865adc90df33"
      },
      "source": [
        "corr"
      ],
      "execution_count": 8,
      "outputs": [
        {
          "output_type": "execute_result",
          "data": {
            "text/html": [
              "<div>\n",
              "<style scoped>\n",
              "    .dataframe tbody tr th:only-of-type {\n",
              "        vertical-align: middle;\n",
              "    }\n",
              "\n",
              "    .dataframe tbody tr th {\n",
              "        vertical-align: top;\n",
              "    }\n",
              "\n",
              "    .dataframe thead th {\n",
              "        text-align: right;\n",
              "    }\n",
              "</style>\n",
              "<table border=\"1\" class=\"dataframe\">\n",
              "  <thead>\n",
              "    <tr style=\"text-align: right;\">\n",
              "      <th></th>\n",
              "      <th>MSFT</th>\n",
              "      <th>AAPL</th>\n",
              "      <th>AMZN</th>\n",
              "      <th>GOOG</th>\n",
              "      <th>GOOGL</th>\n",
              "      <th>FB</th>\n",
              "      <th>JNJ</th>\n",
              "      <th>V</th>\n",
              "      <th>PG</th>\n",
              "      <th>JPM</th>\n",
              "      <th>UNH</th>\n",
              "      <th>MA</th>\n",
              "      <th>INTC</th>\n",
              "      <th>VZ</th>\n",
              "      <th>HD</th>\n",
              "      <th>T</th>\n",
              "      <th>PFE</th>\n",
              "      <th>MRK</th>\n",
              "      <th>PEP</th>\n",
              "      <th>BRK</th>\n",
              "    </tr>\n",
              "  </thead>\n",
              "  <tbody>\n",
              "    <tr>\n",
              "      <th>MSFT</th>\n",
              "      <td>1.000000</td>\n",
              "      <td>0.861019</td>\n",
              "      <td>0.721187</td>\n",
              "      <td>0.869032</td>\n",
              "      <td>0.875290</td>\n",
              "      <td>0.776515</td>\n",
              "      <td>0.680933</td>\n",
              "      <td>0.819773</td>\n",
              "      <td>0.676970</td>\n",
              "      <td>0.669364</td>\n",
              "      <td>0.694773</td>\n",
              "      <td>0.789811</td>\n",
              "      <td>0.773263</td>\n",
              "      <td>0.649179</td>\n",
              "      <td>0.772755</td>\n",
              "      <td>0.655466</td>\n",
              "      <td>0.624449</td>\n",
              "      <td>0.692732</td>\n",
              "      <td>0.753109</td>\n",
              "      <td>0.760143</td>\n",
              "    </tr>\n",
              "    <tr>\n",
              "      <th>AAPL</th>\n",
              "      <td>0.861019</td>\n",
              "      <td>1.000000</td>\n",
              "      <td>0.663617</td>\n",
              "      <td>0.806383</td>\n",
              "      <td>0.805592</td>\n",
              "      <td>0.795486</td>\n",
              "      <td>0.632193</td>\n",
              "      <td>0.770296</td>\n",
              "      <td>0.643742</td>\n",
              "      <td>0.659424</td>\n",
              "      <td>0.686051</td>\n",
              "      <td>0.759460</td>\n",
              "      <td>0.713934</td>\n",
              "      <td>0.618706</td>\n",
              "      <td>0.736490</td>\n",
              "      <td>0.677059</td>\n",
              "      <td>0.576513</td>\n",
              "      <td>0.620457</td>\n",
              "      <td>0.706664</td>\n",
              "      <td>0.755528</td>\n",
              "    </tr>\n",
              "    <tr>\n",
              "      <th>AMZN</th>\n",
              "      <td>0.721187</td>\n",
              "      <td>0.663617</td>\n",
              "      <td>1.000000</td>\n",
              "      <td>0.687438</td>\n",
              "      <td>0.683617</td>\n",
              "      <td>0.650251</td>\n",
              "      <td>0.459461</td>\n",
              "      <td>0.489056</td>\n",
              "      <td>0.469798</td>\n",
              "      <td>0.385877</td>\n",
              "      <td>0.466060</td>\n",
              "      <td>0.483507</td>\n",
              "      <td>0.565172</td>\n",
              "      <td>0.454648</td>\n",
              "      <td>0.493488</td>\n",
              "      <td>0.423634</td>\n",
              "      <td>0.427687</td>\n",
              "      <td>0.441056</td>\n",
              "      <td>0.498774</td>\n",
              "      <td>0.475508</td>\n",
              "    </tr>\n",
              "    <tr>\n",
              "      <th>GOOG</th>\n",
              "      <td>0.869032</td>\n",
              "      <td>0.806383</td>\n",
              "      <td>0.687438</td>\n",
              "      <td>1.000000</td>\n",
              "      <td>0.997765</td>\n",
              "      <td>0.804094</td>\n",
              "      <td>0.627913</td>\n",
              "      <td>0.816985</td>\n",
              "      <td>0.611711</td>\n",
              "      <td>0.685097</td>\n",
              "      <td>0.669993</td>\n",
              "      <td>0.784445</td>\n",
              "      <td>0.711492</td>\n",
              "      <td>0.612996</td>\n",
              "      <td>0.741857</td>\n",
              "      <td>0.670400</td>\n",
              "      <td>0.600569</td>\n",
              "      <td>0.621520</td>\n",
              "      <td>0.659226</td>\n",
              "      <td>0.742870</td>\n",
              "    </tr>\n",
              "    <tr>\n",
              "      <th>GOOGL</th>\n",
              "      <td>0.875290</td>\n",
              "      <td>0.805592</td>\n",
              "      <td>0.683617</td>\n",
              "      <td>0.997765</td>\n",
              "      <td>1.000000</td>\n",
              "      <td>0.801130</td>\n",
              "      <td>0.631169</td>\n",
              "      <td>0.821817</td>\n",
              "      <td>0.613100</td>\n",
              "      <td>0.683375</td>\n",
              "      <td>0.676784</td>\n",
              "      <td>0.788187</td>\n",
              "      <td>0.721770</td>\n",
              "      <td>0.619445</td>\n",
              "      <td>0.749075</td>\n",
              "      <td>0.673649</td>\n",
              "      <td>0.604867</td>\n",
              "      <td>0.628009</td>\n",
              "      <td>0.669725</td>\n",
              "      <td>0.744602</td>\n",
              "    </tr>\n",
              "    <tr>\n",
              "      <th>FB</th>\n",
              "      <td>0.776515</td>\n",
              "      <td>0.795486</td>\n",
              "      <td>0.650251</td>\n",
              "      <td>0.804094</td>\n",
              "      <td>0.801130</td>\n",
              "      <td>1.000000</td>\n",
              "      <td>0.522677</td>\n",
              "      <td>0.708283</td>\n",
              "      <td>0.474228</td>\n",
              "      <td>0.596544</td>\n",
              "      <td>0.609135</td>\n",
              "      <td>0.683924</td>\n",
              "      <td>0.619224</td>\n",
              "      <td>0.485860</td>\n",
              "      <td>0.650210</td>\n",
              "      <td>0.531869</td>\n",
              "      <td>0.479953</td>\n",
              "      <td>0.551862</td>\n",
              "      <td>0.557135</td>\n",
              "      <td>0.643616</td>\n",
              "    </tr>\n",
              "    <tr>\n",
              "      <th>JNJ</th>\n",
              "      <td>0.680933</td>\n",
              "      <td>0.632193</td>\n",
              "      <td>0.459461</td>\n",
              "      <td>0.627913</td>\n",
              "      <td>0.631169</td>\n",
              "      <td>0.522677</td>\n",
              "      <td>1.000000</td>\n",
              "      <td>0.642719</td>\n",
              "      <td>0.752593</td>\n",
              "      <td>0.567918</td>\n",
              "      <td>0.676524</td>\n",
              "      <td>0.611950</td>\n",
              "      <td>0.571644</td>\n",
              "      <td>0.693849</td>\n",
              "      <td>0.569707</td>\n",
              "      <td>0.666437</td>\n",
              "      <td>0.725532</td>\n",
              "      <td>0.709603</td>\n",
              "      <td>0.726231</td>\n",
              "      <td>0.670803</td>\n",
              "    </tr>\n",
              "    <tr>\n",
              "      <th>V</th>\n",
              "      <td>0.819773</td>\n",
              "      <td>0.770296</td>\n",
              "      <td>0.489056</td>\n",
              "      <td>0.816985</td>\n",
              "      <td>0.821817</td>\n",
              "      <td>0.708283</td>\n",
              "      <td>0.642719</td>\n",
              "      <td>1.000000</td>\n",
              "      <td>0.623019</td>\n",
              "      <td>0.779549</td>\n",
              "      <td>0.718284</td>\n",
              "      <td>0.945999</td>\n",
              "      <td>0.660455</td>\n",
              "      <td>0.611414</td>\n",
              "      <td>0.767957</td>\n",
              "      <td>0.699197</td>\n",
              "      <td>0.593791</td>\n",
              "      <td>0.673926</td>\n",
              "      <td>0.694539</td>\n",
              "      <td>0.822773</td>\n",
              "    </tr>\n",
              "    <tr>\n",
              "      <th>PG</th>\n",
              "      <td>0.676970</td>\n",
              "      <td>0.643742</td>\n",
              "      <td>0.469798</td>\n",
              "      <td>0.611711</td>\n",
              "      <td>0.613100</td>\n",
              "      <td>0.474228</td>\n",
              "      <td>0.752593</td>\n",
              "      <td>0.623019</td>\n",
              "      <td>1.000000</td>\n",
              "      <td>0.566290</td>\n",
              "      <td>0.557306</td>\n",
              "      <td>0.604496</td>\n",
              "      <td>0.582092</td>\n",
              "      <td>0.742791</td>\n",
              "      <td>0.601057</td>\n",
              "      <td>0.709367</td>\n",
              "      <td>0.673661</td>\n",
              "      <td>0.625948</td>\n",
              "      <td>0.832310</td>\n",
              "      <td>0.679718</td>\n",
              "    </tr>\n",
              "    <tr>\n",
              "      <th>JPM</th>\n",
              "      <td>0.669364</td>\n",
              "      <td>0.659424</td>\n",
              "      <td>0.385877</td>\n",
              "      <td>0.685097</td>\n",
              "      <td>0.683375</td>\n",
              "      <td>0.596544</td>\n",
              "      <td>0.567918</td>\n",
              "      <td>0.779549</td>\n",
              "      <td>0.566290</td>\n",
              "      <td>1.000000</td>\n",
              "      <td>0.667883</td>\n",
              "      <td>0.755907</td>\n",
              "      <td>0.628384</td>\n",
              "      <td>0.605688</td>\n",
              "      <td>0.741360</td>\n",
              "      <td>0.779611</td>\n",
              "      <td>0.588216</td>\n",
              "      <td>0.591409</td>\n",
              "      <td>0.649047</td>\n",
              "      <td>0.880503</td>\n",
              "    </tr>\n",
              "    <tr>\n",
              "      <th>UNH</th>\n",
              "      <td>0.694773</td>\n",
              "      <td>0.686051</td>\n",
              "      <td>0.466060</td>\n",
              "      <td>0.669993</td>\n",
              "      <td>0.676784</td>\n",
              "      <td>0.609135</td>\n",
              "      <td>0.676524</td>\n",
              "      <td>0.718284</td>\n",
              "      <td>0.557306</td>\n",
              "      <td>0.667883</td>\n",
              "      <td>1.000000</td>\n",
              "      <td>0.664552</td>\n",
              "      <td>0.595367</td>\n",
              "      <td>0.604691</td>\n",
              "      <td>0.686480</td>\n",
              "      <td>0.666807</td>\n",
              "      <td>0.613468</td>\n",
              "      <td>0.638570</td>\n",
              "      <td>0.667170</td>\n",
              "      <td>0.752212</td>\n",
              "    </tr>\n",
              "    <tr>\n",
              "      <th>MA</th>\n",
              "      <td>0.789811</td>\n",
              "      <td>0.759460</td>\n",
              "      <td>0.483507</td>\n",
              "      <td>0.784445</td>\n",
              "      <td>0.788187</td>\n",
              "      <td>0.683924</td>\n",
              "      <td>0.611950</td>\n",
              "      <td>0.945999</td>\n",
              "      <td>0.604496</td>\n",
              "      <td>0.755907</td>\n",
              "      <td>0.664552</td>\n",
              "      <td>1.000000</td>\n",
              "      <td>0.644113</td>\n",
              "      <td>0.554926</td>\n",
              "      <td>0.735264</td>\n",
              "      <td>0.674120</td>\n",
              "      <td>0.577996</td>\n",
              "      <td>0.618285</td>\n",
              "      <td>0.672357</td>\n",
              "      <td>0.789726</td>\n",
              "    </tr>\n",
              "    <tr>\n",
              "      <th>INTC</th>\n",
              "      <td>0.773263</td>\n",
              "      <td>0.713934</td>\n",
              "      <td>0.565172</td>\n",
              "      <td>0.711492</td>\n",
              "      <td>0.721770</td>\n",
              "      <td>0.619224</td>\n",
              "      <td>0.571644</td>\n",
              "      <td>0.660455</td>\n",
              "      <td>0.582092</td>\n",
              "      <td>0.628384</td>\n",
              "      <td>0.595367</td>\n",
              "      <td>0.644113</td>\n",
              "      <td>1.000000</td>\n",
              "      <td>0.605807</td>\n",
              "      <td>0.691547</td>\n",
              "      <td>0.629547</td>\n",
              "      <td>0.594062</td>\n",
              "      <td>0.537712</td>\n",
              "      <td>0.688272</td>\n",
              "      <td>0.682350</td>\n",
              "    </tr>\n",
              "    <tr>\n",
              "      <th>VZ</th>\n",
              "      <td>0.649179</td>\n",
              "      <td>0.618706</td>\n",
              "      <td>0.454648</td>\n",
              "      <td>0.612996</td>\n",
              "      <td>0.619445</td>\n",
              "      <td>0.485860</td>\n",
              "      <td>0.693849</td>\n",
              "      <td>0.611414</td>\n",
              "      <td>0.742791</td>\n",
              "      <td>0.605688</td>\n",
              "      <td>0.604691</td>\n",
              "      <td>0.554926</td>\n",
              "      <td>0.605807</td>\n",
              "      <td>1.000000</td>\n",
              "      <td>0.617845</td>\n",
              "      <td>0.777089</td>\n",
              "      <td>0.680268</td>\n",
              "      <td>0.692230</td>\n",
              "      <td>0.749946</td>\n",
              "      <td>0.694794</td>\n",
              "    </tr>\n",
              "    <tr>\n",
              "      <th>HD</th>\n",
              "      <td>0.772755</td>\n",
              "      <td>0.736490</td>\n",
              "      <td>0.493488</td>\n",
              "      <td>0.741857</td>\n",
              "      <td>0.749075</td>\n",
              "      <td>0.650210</td>\n",
              "      <td>0.569707</td>\n",
              "      <td>0.767957</td>\n",
              "      <td>0.601057</td>\n",
              "      <td>0.741360</td>\n",
              "      <td>0.686480</td>\n",
              "      <td>0.735264</td>\n",
              "      <td>0.691547</td>\n",
              "      <td>0.617845</td>\n",
              "      <td>1.000000</td>\n",
              "      <td>0.698199</td>\n",
              "      <td>0.582430</td>\n",
              "      <td>0.608316</td>\n",
              "      <td>0.787492</td>\n",
              "      <td>0.768956</td>\n",
              "    </tr>\n",
              "    <tr>\n",
              "      <th>T</th>\n",
              "      <td>0.655466</td>\n",
              "      <td>0.677059</td>\n",
              "      <td>0.423634</td>\n",
              "      <td>0.670400</td>\n",
              "      <td>0.673649</td>\n",
              "      <td>0.531869</td>\n",
              "      <td>0.666437</td>\n",
              "      <td>0.699197</td>\n",
              "      <td>0.709367</td>\n",
              "      <td>0.779611</td>\n",
              "      <td>0.666807</td>\n",
              "      <td>0.674120</td>\n",
              "      <td>0.629547</td>\n",
              "      <td>0.777089</td>\n",
              "      <td>0.698199</td>\n",
              "      <td>1.000000</td>\n",
              "      <td>0.648511</td>\n",
              "      <td>0.616581</td>\n",
              "      <td>0.740159</td>\n",
              "      <td>0.791708</td>\n",
              "    </tr>\n",
              "    <tr>\n",
              "      <th>PFE</th>\n",
              "      <td>0.624449</td>\n",
              "      <td>0.576513</td>\n",
              "      <td>0.427687</td>\n",
              "      <td>0.600569</td>\n",
              "      <td>0.604867</td>\n",
              "      <td>0.479953</td>\n",
              "      <td>0.725532</td>\n",
              "      <td>0.593791</td>\n",
              "      <td>0.673661</td>\n",
              "      <td>0.588216</td>\n",
              "      <td>0.613468</td>\n",
              "      <td>0.577996</td>\n",
              "      <td>0.594062</td>\n",
              "      <td>0.680268</td>\n",
              "      <td>0.582430</td>\n",
              "      <td>0.648511</td>\n",
              "      <td>1.000000</td>\n",
              "      <td>0.689511</td>\n",
              "      <td>0.688789</td>\n",
              "      <td>0.639678</td>\n",
              "    </tr>\n",
              "    <tr>\n",
              "      <th>MRK</th>\n",
              "      <td>0.692732</td>\n",
              "      <td>0.620457</td>\n",
              "      <td>0.441056</td>\n",
              "      <td>0.621520</td>\n",
              "      <td>0.628009</td>\n",
              "      <td>0.551862</td>\n",
              "      <td>0.709603</td>\n",
              "      <td>0.673926</td>\n",
              "      <td>0.625948</td>\n",
              "      <td>0.591409</td>\n",
              "      <td>0.638570</td>\n",
              "      <td>0.618285</td>\n",
              "      <td>0.537712</td>\n",
              "      <td>0.692230</td>\n",
              "      <td>0.608316</td>\n",
              "      <td>0.616581</td>\n",
              "      <td>0.689511</td>\n",
              "      <td>1.000000</td>\n",
              "      <td>0.647315</td>\n",
              "      <td>0.664512</td>\n",
              "    </tr>\n",
              "    <tr>\n",
              "      <th>PEP</th>\n",
              "      <td>0.753109</td>\n",
              "      <td>0.706664</td>\n",
              "      <td>0.498774</td>\n",
              "      <td>0.659226</td>\n",
              "      <td>0.669725</td>\n",
              "      <td>0.557135</td>\n",
              "      <td>0.726231</td>\n",
              "      <td>0.694539</td>\n",
              "      <td>0.832310</td>\n",
              "      <td>0.649047</td>\n",
              "      <td>0.667170</td>\n",
              "      <td>0.672357</td>\n",
              "      <td>0.688272</td>\n",
              "      <td>0.749946</td>\n",
              "      <td>0.787492</td>\n",
              "      <td>0.740159</td>\n",
              "      <td>0.688789</td>\n",
              "      <td>0.647315</td>\n",
              "      <td>1.000000</td>\n",
              "      <td>0.740100</td>\n",
              "    </tr>\n",
              "    <tr>\n",
              "      <th>BRK</th>\n",
              "      <td>0.760143</td>\n",
              "      <td>0.755528</td>\n",
              "      <td>0.475508</td>\n",
              "      <td>0.742870</td>\n",
              "      <td>0.744602</td>\n",
              "      <td>0.643616</td>\n",
              "      <td>0.670803</td>\n",
              "      <td>0.822773</td>\n",
              "      <td>0.679718</td>\n",
              "      <td>0.880503</td>\n",
              "      <td>0.752212</td>\n",
              "      <td>0.789726</td>\n",
              "      <td>0.682350</td>\n",
              "      <td>0.694794</td>\n",
              "      <td>0.768956</td>\n",
              "      <td>0.791708</td>\n",
              "      <td>0.639678</td>\n",
              "      <td>0.664512</td>\n",
              "      <td>0.740100</td>\n",
              "      <td>1.000000</td>\n",
              "    </tr>\n",
              "  </tbody>\n",
              "</table>\n",
              "</div>"
            ],
            "text/plain": [
              "           MSFT      AAPL      AMZN  ...       MRK       PEP       BRK\n",
              "MSFT   1.000000  0.861019  0.721187  ...  0.692732  0.753109  0.760143\n",
              "AAPL   0.861019  1.000000  0.663617  ...  0.620457  0.706664  0.755528\n",
              "AMZN   0.721187  0.663617  1.000000  ...  0.441056  0.498774  0.475508\n",
              "GOOG   0.869032  0.806383  0.687438  ...  0.621520  0.659226  0.742870\n",
              "GOOGL  0.875290  0.805592  0.683617  ...  0.628009  0.669725  0.744602\n",
              "FB     0.776515  0.795486  0.650251  ...  0.551862  0.557135  0.643616\n",
              "JNJ    0.680933  0.632193  0.459461  ...  0.709603  0.726231  0.670803\n",
              "V      0.819773  0.770296  0.489056  ...  0.673926  0.694539  0.822773\n",
              "PG     0.676970  0.643742  0.469798  ...  0.625948  0.832310  0.679718\n",
              "JPM    0.669364  0.659424  0.385877  ...  0.591409  0.649047  0.880503\n",
              "UNH    0.694773  0.686051  0.466060  ...  0.638570  0.667170  0.752212\n",
              "MA     0.789811  0.759460  0.483507  ...  0.618285  0.672357  0.789726\n",
              "INTC   0.773263  0.713934  0.565172  ...  0.537712  0.688272  0.682350\n",
              "VZ     0.649179  0.618706  0.454648  ...  0.692230  0.749946  0.694794\n",
              "HD     0.772755  0.736490  0.493488  ...  0.608316  0.787492  0.768956\n",
              "T      0.655466  0.677059  0.423634  ...  0.616581  0.740159  0.791708\n",
              "PFE    0.624449  0.576513  0.427687  ...  0.689511  0.688789  0.639678\n",
              "MRK    0.692732  0.620457  0.441056  ...  1.000000  0.647315  0.664512\n",
              "PEP    0.753109  0.706664  0.498774  ...  0.647315  1.000000  0.740100\n",
              "BRK    0.760143  0.755528  0.475508  ...  0.664512  0.740100  1.000000\n",
              "\n",
              "[20 rows x 20 columns]"
            ]
          },
          "metadata": {
            "tags": []
          },
          "execution_count": 8
        }
      ]
    },
    {
      "cell_type": "code",
      "metadata": {
        "id": "L27D33c0Bya5",
        "colab_type": "code",
        "colab": {
          "base_uri": "https://localhost:8080/",
          "height": 296
        },
        "outputId": "e7222206-26ff-4fb4-c4c3-8f51fe0aa18d"
      },
      "source": [
        " #take the bottom triangle since it repeats itself\n",
        " mask = np.zeros_like(corr)\n",
        " mask[np.triu_indices_from(mask)] = True\n",
        " #generate plot\n",
        " sns.heatmap(corr, cmap='RdYlGn', vmax=1.0, vmin=-1.0 , mask = mask, linewidths=2.5)\n",
        " plt.yticks(rotation=0) \n",
        " plt.xticks(rotation=90) \n",
        " plt.show()"
      ],
      "execution_count": 9,
      "outputs": [
        {
          "output_type": "display_data",
          "data": {
            "image/png": "[encoded data removed]",
            "text/plain": [
              "<Figure size 432x288 with 2 Axes>"
            ]
          },
          "metadata": {
            "tags": [],
            "needs_background": "light"
          }
        }
      ]
    },
    {
      "cell_type": "code",
      "metadata": {
        "id": "XuxU3gOWGbZL",
        "colab_type": "code",
        "colab": {}
      },
      "source": [
        "sum_corr = stock_cp.corr().sum().sort_values(ascending=True).index.values"
      ],
      "execution_count": 40,
      "outputs": []
    },
    {
      "cell_type": "code",
      "metadata": {
        "id": "WfvGSQk2HV-e",
        "colab_type": "code",
        "colab": {
          "base_uri": "https://localhost:8080/",
          "height": 67
        },
        "outputId": "765a2c3a-0a46-4c48-ac91-f953e804a17e"
      },
      "source": [
        "sum_corr"
      ],
      "execution_count": 11,
      "outputs": [
        {
          "output_type": "execute_result",
          "data": {
            "text/plain": [
              "array(['T', 'AMZN', 'BRK', 'JPM', 'MRK', 'VZ', 'INTC', 'MSFT', 'AAPL',\n",
              "       'PFE', 'HD', 'JNJ', 'PG', 'UNH', 'PEP', 'FB', 'V', 'GOOG', 'GOOGL',\n",
              "       'MA'], dtype=object)"
            ]
          },
          "metadata": {
            "tags": []
          },
          "execution_count": 11
        }
      ]
    },
    {
      "cell_type": "code",
      "metadata": {
        "id": "7_ix8ArfHXeh",
        "colab_type": "code",
        "colab": {}
      },
      "source": [
        "selected_stocks = stock_cp[sum_corr[:5]]"
      ],
      "execution_count": 12,
      "outputs": []
    },
    {
      "cell_type": "code",
      "metadata": {
        "id": "LMwqqDGyI003",
        "colab_type": "code",
        "colab": {
          "base_uri": "https://localhost:8080/",
          "height": 431
        },
        "outputId": "d4ad3952-6bbb-4e98-9957-b8abe9c1cd9a"
      },
      "source": [
        "selected_stocks"
      ],
      "execution_count": 13,
      "outputs": [
        {
          "output_type": "execute_result",
          "data": {
            "text/html": [
              "<div>\n",
              "<style scoped>\n",
              "    .dataframe tbody tr th:only-of-type {\n",
              "        vertical-align: middle;\n",
              "    }\n",
              "\n",
              "    .dataframe tbody tr th {\n",
              "        vertical-align: top;\n",
              "    }\n",
              "\n",
              "    .dataframe thead th {\n",
              "        text-align: right;\n",
              "    }\n",
              "</style>\n",
              "<table border=\"1\" class=\"dataframe\">\n",
              "  <thead>\n",
              "    <tr style=\"text-align: right;\">\n",
              "      <th></th>\n",
              "      <th>T</th>\n",
              "      <th>AMZN</th>\n",
              "      <th>BRK</th>\n",
              "      <th>JPM</th>\n",
              "      <th>MRK</th>\n",
              "    </tr>\n",
              "    <tr>\n",
              "      <th>Date</th>\n",
              "      <th></th>\n",
              "      <th></th>\n",
              "      <th></th>\n",
              "      <th></th>\n",
              "      <th></th>\n",
              "    </tr>\n",
              "  </thead>\n",
              "  <tbody>\n",
              "    <tr>\n",
              "      <th>2019-08-13</th>\n",
              "      <td>32.775654</td>\n",
              "      <td>1824.339966</td>\n",
              "      <td>198.779999</td>\n",
              "      <td>105.641266</td>\n",
              "      <td>83.569199</td>\n",
              "    </tr>\n",
              "    <tr>\n",
              "      <th>2019-08-14</th>\n",
              "      <td>32.051693</td>\n",
              "      <td>1762.959961</td>\n",
              "      <td>195.809998</td>\n",
              "      <td>101.254845</td>\n",
              "      <td>80.967384</td>\n",
              "    </tr>\n",
              "    <tr>\n",
              "      <th>2019-08-15</th>\n",
              "      <td>32.286747</td>\n",
              "      <td>1776.119995</td>\n",
              "      <td>198.309998</td>\n",
              "      <td>101.641304</td>\n",
              "      <td>81.025620</td>\n",
              "    </tr>\n",
              "    <tr>\n",
              "      <th>2019-08-16</th>\n",
              "      <td>32.879078</td>\n",
              "      <td>1792.569946</td>\n",
              "      <td>199.720001</td>\n",
              "      <td>104.076073</td>\n",
              "      <td>82.578949</td>\n",
              "    </tr>\n",
              "    <tr>\n",
              "      <th>2019-08-19</th>\n",
              "      <td>33.264565</td>\n",
              "      <td>1816.119995</td>\n",
              "      <td>200.940002</td>\n",
              "      <td>105.013260</td>\n",
              "      <td>83.675987</td>\n",
              "    </tr>\n",
              "    <tr>\n",
              "      <th>...</th>\n",
              "      <td>...</td>\n",
              "      <td>...</td>\n",
              "      <td>...</td>\n",
              "      <td>...</td>\n",
              "      <td>...</td>\n",
              "    </tr>\n",
              "    <tr>\n",
              "      <th>2020-08-06</th>\n",
              "      <td>29.840000</td>\n",
              "      <td>3225.000000</td>\n",
              "      <td>205.020004</td>\n",
              "      <td>97.239998</td>\n",
              "      <td>81.050003</td>\n",
              "    </tr>\n",
              "    <tr>\n",
              "      <th>2020-08-07</th>\n",
              "      <td>30.020000</td>\n",
              "      <td>3167.459961</td>\n",
              "      <td>209.479996</td>\n",
              "      <td>99.379997</td>\n",
              "      <td>81.019997</td>\n",
              "    </tr>\n",
              "    <tr>\n",
              "      <th>2020-08-10</th>\n",
              "      <td>30.200001</td>\n",
              "      <td>3148.159912</td>\n",
              "      <td>212.580002</td>\n",
              "      <td>100.639999</td>\n",
              "      <td>80.910004</td>\n",
              "    </tr>\n",
              "    <tr>\n",
              "      <th>2020-08-11</th>\n",
              "      <td>30.200001</td>\n",
              "      <td>3080.669922</td>\n",
              "      <td>212.660004</td>\n",
              "      <td>103.820000</td>\n",
              "      <td>80.910004</td>\n",
              "    </tr>\n",
              "    <tr>\n",
              "      <th>2020-08-12</th>\n",
              "      <td>30.165001</td>\n",
              "      <td>3148.850098</td>\n",
              "      <td>NaN</td>\n",
              "      <td>102.830002</td>\n",
              "      <td>82.500000</td>\n",
              "    </tr>\n",
              "  </tbody>\n",
              "</table>\n",
              "<p>253 rows × 5 columns</p>\n",
              "</div>"
            ],
            "text/plain": [
              "                    T         AMZN         BRK         JPM        MRK\n",
              "Date                                                                 \n",
              "2019-08-13  32.775654  1824.339966  198.779999  105.641266  83.569199\n",
              "2019-08-14  32.051693  1762.959961  195.809998  101.254845  80.967384\n",
              "2019-08-15  32.286747  1776.119995  198.309998  101.641304  81.025620\n",
              "2019-08-16  32.879078  1792.569946  199.720001  104.076073  82.578949\n",
              "2019-08-19  33.264565  1816.119995  200.940002  105.013260  83.675987\n",
              "...               ...          ...         ...         ...        ...\n",
              "2020-08-06  29.840000  3225.000000  205.020004   97.239998  81.050003\n",
              "2020-08-07  30.020000  3167.459961  209.479996   99.379997  81.019997\n",
              "2020-08-10  30.200001  3148.159912  212.580002  100.639999  80.910004\n",
              "2020-08-11  30.200001  3080.669922  212.660004  103.820000  80.910004\n",
              "2020-08-12  30.165001  3148.850098         NaN  102.830002  82.500000\n",
              "\n",
              "[253 rows x 5 columns]"
            ]
          },
          "metadata": {
            "tags": []
          },
          "execution_count": 13
        }
      ]
    },
    {
      "cell_type": "code",
      "metadata": {
        "id": "uNOIIiVpI2FN",
        "colab_type": "code",
        "colab": {
          "base_uri": "https://localhost:8080/",
          "height": 225
        },
        "outputId": "6e6e3faf-8ead-45c1-f581-b32354b78a46"
      },
      "source": [
        "log_ret = np.log(selected_stocks/selected_stocks.shift(1))\n",
        "log_ret.head()"
      ],
      "execution_count": 14,
      "outputs": [
        {
          "output_type": "execute_result",
          "data": {
            "text/html": [
              "<div>\n",
              "<style scoped>\n",
              "    .dataframe tbody tr th:only-of-type {\n",
              "        vertical-align: middle;\n",
              "    }\n",
              "\n",
              "    .dataframe tbody tr th {\n",
              "        vertical-align: top;\n",
              "    }\n",
              "\n",
              "    .dataframe thead th {\n",
              "        text-align: right;\n",
              "    }\n",
              "</style>\n",
              "<table border=\"1\" class=\"dataframe\">\n",
              "  <thead>\n",
              "    <tr style=\"text-align: right;\">\n",
              "      <th></th>\n",
              "      <th>T</th>\n",
              "      <th>AMZN</th>\n",
              "      <th>BRK</th>\n",
              "      <th>JPM</th>\n",
              "      <th>MRK</th>\n",
              "    </tr>\n",
              "    <tr>\n",
              "      <th>Date</th>\n",
              "      <th></th>\n",
              "      <th></th>\n",
              "      <th></th>\n",
              "      <th></th>\n",
              "      <th></th>\n",
              "    </tr>\n",
              "  </thead>\n",
              "  <tbody>\n",
              "    <tr>\n",
              "      <th>2019-08-13</th>\n",
              "      <td>NaN</td>\n",
              "      <td>NaN</td>\n",
              "      <td>NaN</td>\n",
              "      <td>NaN</td>\n",
              "      <td>NaN</td>\n",
              "    </tr>\n",
              "    <tr>\n",
              "      <th>2019-08-14</th>\n",
              "      <td>-0.022336</td>\n",
              "      <td>-0.034224</td>\n",
              "      <td>-0.015054</td>\n",
              "      <td>-0.042409</td>\n",
              "      <td>-0.031629</td>\n",
              "    </tr>\n",
              "    <tr>\n",
              "      <th>2019-08-15</th>\n",
              "      <td>0.007307</td>\n",
              "      <td>0.007437</td>\n",
              "      <td>0.012687</td>\n",
              "      <td>0.003809</td>\n",
              "      <td>0.000719</td>\n",
              "    </tr>\n",
              "    <tr>\n",
              "      <th>2019-08-16</th>\n",
              "      <td>0.018180</td>\n",
              "      <td>0.009219</td>\n",
              "      <td>0.007085</td>\n",
              "      <td>0.023672</td>\n",
              "      <td>0.018989</td>\n",
              "    </tr>\n",
              "    <tr>\n",
              "      <th>2019-08-19</th>\n",
              "      <td>0.011656</td>\n",
              "      <td>0.013052</td>\n",
              "      <td>0.006090</td>\n",
              "      <td>0.008965</td>\n",
              "      <td>0.013197</td>\n",
              "    </tr>\n",
              "  </tbody>\n",
              "</table>\n",
              "</div>"
            ],
            "text/plain": [
              "                   T      AMZN       BRK       JPM       MRK\n",
              "Date                                                        \n",
              "2019-08-13       NaN       NaN       NaN       NaN       NaN\n",
              "2019-08-14 -0.022336 -0.034224 -0.015054 -0.042409 -0.031629\n",
              "2019-08-15  0.007307  0.007437  0.012687  0.003809  0.000719\n",
              "2019-08-16  0.018180  0.009219  0.007085  0.023672  0.018989\n",
              "2019-08-19  0.011656  0.013052  0.006090  0.008965  0.013197"
            ]
          },
          "metadata": {
            "tags": []
          },
          "execution_count": 14
        }
      ]
    },
    {
      "cell_type": "code",
      "metadata": {
        "id": "47BPHtqCKqbB",
        "colab_type": "code",
        "colab": {
          "base_uri": "https://localhost:8080/",
          "height": 441
        },
        "outputId": "3c11daac-15cd-4f93-95cd-3fe19ad11ef0"
      },
      "source": [
        "log_ret.hist(bins=100,figsize=(12,6));\n",
        "plt.tight_layout()"
      ],
      "execution_count": 15,
      "outputs": [
        {
          "output_type": "display_data",
          "data": {
            "image/png": "[encoded data removed]",
            "text/plain": [
              "<Figure size 864x432 with 6 Axes>"
            ]
          },
          "metadata": {
            "tags": [],
            "needs_background": "light"
          }
        }
      ]
    },
    {
      "cell_type": "code",
      "metadata": {
        "id": "b5KogVh5KvGd",
        "colab_type": "code",
        "colab": {
          "base_uri": "https://localhost:8080/",
          "height": 118
        },
        "outputId": "2ec9bd32-912e-4088-8a59-1266107eb9c1"
      },
      "source": [
        "log_ret.mean() * 252"
      ],
      "execution_count": 16,
      "outputs": [
        {
          "output_type": "execute_result",
          "data": {
            "text/plain": [
              "T      -0.083004\n",
              "AMZN    0.545819\n",
              "BRK     0.067765\n",
              "JPM    -0.026972\n",
              "MRK    -0.012877\n",
              "dtype: float64"
            ]
          },
          "metadata": {
            "tags": []
          },
          "execution_count": 16
        }
      ]
    },
    {
      "cell_type": "code",
      "metadata": {
        "id": "w9uL8X0VLLKs",
        "colab_type": "code",
        "colab": {
          "base_uri": "https://localhost:8080/",
          "height": 195
        },
        "outputId": "77ed0380-e196-4d1d-87d6-0e07a1f548ff"
      },
      "source": [
        "log_ret.cov()*252"
      ],
      "execution_count": 17,
      "outputs": [
        {
          "output_type": "execute_result",
          "data": {
            "text/html": [
              "<div>\n",
              "<style scoped>\n",
              "    .dataframe tbody tr th:only-of-type {\n",
              "        vertical-align: middle;\n",
              "    }\n",
              "\n",
              "    .dataframe tbody tr th {\n",
              "        vertical-align: top;\n",
              "    }\n",
              "\n",
              "    .dataframe thead th {\n",
              "        text-align: right;\n",
              "    }\n",
              "</style>\n",
              "<table border=\"1\" class=\"dataframe\">\n",
              "  <thead>\n",
              "    <tr style=\"text-align: right;\">\n",
              "      <th></th>\n",
              "      <th>T</th>\n",
              "      <th>AMZN</th>\n",
              "      <th>BRK</th>\n",
              "      <th>JPM</th>\n",
              "      <th>MRK</th>\n",
              "    </tr>\n",
              "  </thead>\n",
              "  <tbody>\n",
              "    <tr>\n",
              "      <th>T</th>\n",
              "      <td>0.124662</td>\n",
              "      <td>0.050621</td>\n",
              "      <td>0.094826</td>\n",
              "      <td>0.140689</td>\n",
              "      <td>0.069707</td>\n",
              "    </tr>\n",
              "    <tr>\n",
              "      <th>AMZN</th>\n",
              "      <td>0.050621</td>\n",
              "      <td>0.112874</td>\n",
              "      <td>0.054892</td>\n",
              "      <td>0.067680</td>\n",
              "      <td>0.047778</td>\n",
              "    </tr>\n",
              "    <tr>\n",
              "      <th>BRK</th>\n",
              "      <td>0.094826</td>\n",
              "      <td>0.054892</td>\n",
              "      <td>0.114723</td>\n",
              "      <td>0.153438</td>\n",
              "      <td>0.073009</td>\n",
              "    </tr>\n",
              "    <tr>\n",
              "      <th>JPM</th>\n",
              "      <td>0.140689</td>\n",
              "      <td>0.067680</td>\n",
              "      <td>0.153438</td>\n",
              "      <td>0.263492</td>\n",
              "      <td>0.098636</td>\n",
              "    </tr>\n",
              "    <tr>\n",
              "      <th>MRK</th>\n",
              "      <td>0.069707</td>\n",
              "      <td>0.047778</td>\n",
              "      <td>0.073009</td>\n",
              "      <td>0.098636</td>\n",
              "      <td>0.102635</td>\n",
              "    </tr>\n",
              "  </tbody>\n",
              "</table>\n",
              "</div>"
            ],
            "text/plain": [
              "             T      AMZN       BRK       JPM       MRK\n",
              "T     0.124662  0.050621  0.094826  0.140689  0.069707\n",
              "AMZN  0.050621  0.112874  0.054892  0.067680  0.047778\n",
              "BRK   0.094826  0.054892  0.114723  0.153438  0.073009\n",
              "JPM   0.140689  0.067680  0.153438  0.263492  0.098636\n",
              "MRK   0.069707  0.047778  0.073009  0.098636  0.102635"
            ]
          },
          "metadata": {
            "tags": []
          },
          "execution_count": 17
        }
      ]
    },
    {
      "cell_type": "code",
      "metadata": {
        "id": "6KgF5dX0LQHJ",
        "colab_type": "code",
        "colab": {
          "base_uri": "https://localhost:8080/",
          "height": 302
        },
        "outputId": "38ce33c1-9538-4d4b-f521-6b08b412256c"
      },
      "source": [
        "# Set seed (optional)\n",
        "np.random.seed(101)\n",
        "\n",
        "# Stock Columns\n",
        "print('Stocks')\n",
        "print(selected_stocks.columns)\n",
        "print('\\n')\n",
        "\n",
        "# Rebalance Weights\n",
        "weights = np.array(np.random.random(5))\n",
        "weights = weights / np.sum(weights)\n",
        "print(weights)\n",
        "print('\\n')\n",
        "\n",
        "# Expected Return\n",
        "print('Expected Portfolio Return')\n",
        "exp_ret = np.sum(log_ret.mean() * weights) *252\n",
        "print(exp_ret)\n",
        "print('\\n')\n",
        "\n",
        "# Expected Variance\n",
        "print('Expected Volatility')\n",
        "exp_vol = np.sqrt(np.dot(weights.T, np.dot(log_ret.cov() * 252, weights)))\n",
        "print(exp_vol)\n",
        "print('\\n')\n",
        "\n",
        "# Sharpe Ratio\n",
        "SR = exp_ret/exp_vol\n",
        "print('Sharpe Ratio')\n",
        "print(SR)\n"
      ],
      "execution_count": 18,
      "outputs": [
        {
          "output_type": "stream",
          "text": [
            "Stocks\n",
            "Index(['T', 'AMZN', 'BRK', 'JPM', 'MRK'], dtype='object')\n",
            "\n",
            "\n",
            "[0.26182041 0.28933544 0.01443678 0.08696357 0.3474438 ]\n",
            "\n",
            "\n",
            "Expected Portfolio Return\n",
            "0.13035155078952784\n",
            "\n",
            "\n",
            "Expected Volatility\n",
            "0.28359321664638903\n",
            "\n",
            "\n",
            "Sharpe Ratio\n",
            "0.45964269643325967\n"
          ],
          "name": "stdout"
        }
      ]
    },
    {
      "cell_type": "code",
      "metadata": {
        "id": "l-YXwyERLge1",
        "colab_type": "code",
        "colab": {}
      },
      "source": [
        "num_ports = 15000\n",
        "\n",
        "all_weights = np.zeros((num_ports,len(selected_stocks.columns)))\n",
        "ret_arr = np.zeros(num_ports)\n",
        "vol_arr = np.zeros(num_ports)\n",
        "sharpe_arr = np.zeros(num_ports)\n",
        "\n",
        "for ind in range(num_ports):\n",
        "\n",
        "    # Create Random Weights\n",
        "    weights = np.array(np.random.random(5))\n",
        "\n",
        "    # Rebalance Weights\n",
        "    weights = weights / np.sum(weights)\n",
        "    \n",
        "    # Save Weights\n",
        "    all_weights[ind,:] = weights\n",
        "\n",
        "    # Expected Return\n",
        "    ret_arr[ind] = np.sum((log_ret.mean() * weights) *252)\n",
        "\n",
        "    # Expected Variance\n",
        "    vol_arr[ind] = np.sqrt(np.dot(weights.T, np.dot(log_ret.cov() * 252, weights)))\n",
        "\n",
        "    # Sharpe Ratio\n",
        "    sharpe_arr[ind] = ret_arr[ind]/vol_arr[ind]"
      ],
      "execution_count": 19,
      "outputs": []
    },
    {
      "cell_type": "code",
      "metadata": {
        "id": "rZ7srYMNRf3b",
        "colab_type": "code",
        "colab": {
          "base_uri": "https://localhost:8080/",
          "height": 34
        },
        "outputId": "8752e1af-aa68-4755-d8db-9e2b7b90eb15"
      },
      "source": [
        "sharpe_arr.max()"
      ],
      "execution_count": 20,
      "outputs": [
        {
          "output_type": "execute_result",
          "data": {
            "text/plain": [
              "1.3864271420528047"
            ]
          },
          "metadata": {
            "tags": []
          },
          "execution_count": 20
        }
      ]
    },
    {
      "cell_type": "code",
      "metadata": {
        "id": "pKCMye62Soz8",
        "colab_type": "code",
        "colab": {
          "base_uri": "https://localhost:8080/",
          "height": 34
        },
        "outputId": "a4059cb4-114d-4965-b3a8-c229e53b6c45"
      },
      "source": [
        "sharpe_arr.argmax()"
      ],
      "execution_count": 21,
      "outputs": [
        {
          "output_type": "execute_result",
          "data": {
            "text/plain": [
              "10532"
            ]
          },
          "metadata": {
            "tags": []
          },
          "execution_count": 21
        }
      ]
    },
    {
      "cell_type": "code",
      "metadata": {
        "id": "xBy9qEw-SrLV",
        "colab_type": "code",
        "colab": {
          "base_uri": "https://localhost:8080/",
          "height": 34
        },
        "outputId": "e6fc801a-12e7-4caf-e2a4-73754963dcdc"
      },
      "source": [
        "all_weights[10532,:]"
      ],
      "execution_count": 22,
      "outputs": [
        {
          "output_type": "execute_result",
          "data": {
            "text/plain": [
              "array([0.08152537, 0.77753138, 0.0579347 , 0.02818283, 0.05482572])"
            ]
          },
          "metadata": {
            "tags": []
          },
          "execution_count": 22
        }
      ]
    },
    {
      "cell_type": "code",
      "metadata": {
        "id": "9SlwkDVkSxqA",
        "colab_type": "code",
        "colab": {}
      },
      "source": [
        "max_sr_ret = ret_arr[10532]\n",
        "max_sr_vol = vol_arr[10532]"
      ],
      "execution_count": 23,
      "outputs": []
    },
    {
      "cell_type": "code",
      "metadata": {
        "id": "9PU1SAdpS16d",
        "colab_type": "code",
        "colab": {
          "base_uri": "https://localhost:8080/",
          "height": 514
        },
        "outputId": "9583785e-dfa7-4aee-92d8-684de15aa310"
      },
      "source": [
        "plt.figure(figsize=(12,8))\n",
        "plt.scatter(vol_arr,ret_arr,c=sharpe_arr,cmap='plasma')\n",
        "plt.colorbar(label='Sharpe Ratio')\n",
        "plt.xlabel('Volatility')\n",
        "plt.ylabel('Return')\n",
        "\n",
        "# Add red dot for max SR\n",
        "plt.scatter(max_sr_vol,max_sr_ret,c='red',s=50,edgecolors='black')"
      ],
      "execution_count": 24,
      "outputs": [
        {
          "output_type": "execute_result",
          "data": {
            "text/plain": [
              "<matplotlib.collections.PathCollection at 0x7f0c41cb04a8>"
            ]
          },
          "metadata": {
            "tags": []
          },
          "execution_count": 24
        },
        {
          "output_type": "display_data",
          "data": {
            "image/png": "[encoded data removed]",
            "text/plain": [
              "<Figure size 864x576 with 2 Axes>"
            ]
          },
          "metadata": {
            "tags": [],
            "needs_background": "light"
          }
        }
      ]
    },
    {
      "cell_type": "code",
      "metadata": {
        "id": "cw4ui0SaTB7Z",
        "colab_type": "code",
        "colab": {}
      },
      "source": [
        "def get_ret_vol_sr(weights):\n",
        "    \"\"\"\n",
        "    Takes in weights, returns array or return,volatility, sharpe ratio\n",
        "    \"\"\"\n",
        "    weights = np.array(weights)\n",
        "    ret = np.sum(log_ret.mean() * weights) * 252\n",
        "    vol = np.sqrt(np.dot(weights.T, np.dot(log_ret.cov() * 252, weights)))\n",
        "    sr = ret/vol\n",
        "    return np.array([ret,vol,sr])"
      ],
      "execution_count": 25,
      "outputs": []
    },
    {
      "cell_type": "code",
      "metadata": {
        "id": "3Nzar2tIULkc",
        "colab_type": "code",
        "colab": {}
      },
      "source": [
        "from scipy.optimize import minimize"
      ],
      "execution_count": 26,
      "outputs": []
    },
    {
      "cell_type": "code",
      "metadata": {
        "id": "HEWyaOu1UOSI",
        "colab_type": "code",
        "colab": {}
      },
      "source": [
        "def neg_sharpe(weights):\n",
        "    return  get_ret_vol_sr(weights)[2] * -1"
      ],
      "execution_count": 27,
      "outputs": []
    },
    {
      "cell_type": "code",
      "metadata": {
        "id": "q8P9Ma_wURBw",
        "colab_type": "code",
        "colab": {}
      },
      "source": [
        "# Contraints\n",
        "def check_sum(weights):\n",
        "    '''\n",
        "    Returns 0 if sum of weights is 1.0\n",
        "    '''\n",
        "    return np.sum(weights) - 1"
      ],
      "execution_count": 28,
      "outputs": []
    },
    {
      "cell_type": "code",
      "metadata": {
        "id": "BoPWQukoUTyw",
        "colab_type": "code",
        "colab": {}
      },
      "source": [
        "# By convention of minimize function it should be a function that returns zero for conditions\n",
        "cons = ({'type':'eq','fun': check_sum})"
      ],
      "execution_count": 29,
      "outputs": []
    },
    {
      "cell_type": "code",
      "metadata": {
        "id": "5Z7U5Cy_UWRY",
        "colab_type": "code",
        "colab": {}
      },
      "source": [
        "# 0-1 bounds for each weight\n",
        "bounds = ((0, 1), (0, 1), (0, 1), (0, 1), (0, 1))"
      ],
      "execution_count": 30,
      "outputs": []
    },
    {
      "cell_type": "code",
      "metadata": {
        "id": "_cz5B9TqUYTk",
        "colab_type": "code",
        "colab": {}
      },
      "source": [
        "# Initial Guess (equal distribution)\n",
        "init_guess = [0.20,0.20,0.20,0.20, 0.20]"
      ],
      "execution_count": 31,
      "outputs": []
    },
    {
      "cell_type": "code",
      "metadata": {
        "id": "K9RntER6UaOo",
        "colab_type": "code",
        "colab": {}
      },
      "source": [
        "# Sequential Least SQuares Programming (SLSQP).\n",
        "opt_results = minimize(neg_sharpe,init_guess,method='SLSQP',bounds=bounds,constraints=cons)"
      ],
      "execution_count": 32,
      "outputs": []
    },
    {
      "cell_type": "code",
      "metadata": {
        "id": "SY0dYNeUUghU",
        "colab_type": "code",
        "colab": {
          "base_uri": "https://localhost:8080/",
          "height": 202
        },
        "outputId": "ec3f8992-4016-4e6a-9596-f6025c2f8cff"
      },
      "source": [
        "opt_results"
      ],
      "execution_count": 33,
      "outputs": [
        {
          "output_type": "execute_result",
          "data": {
            "text/plain": [
              "     fun: -1.6246181567785798\n",
              "     jac: array([9.75662306e-01, 2.98023224e-08, 5.88368014e-01, 1.05440924e+00,\n",
              "       7.26000592e-01])\n",
              " message: 'Optimization terminated successfully.'\n",
              "    nfev: 14\n",
              "     nit: 2\n",
              "    njev: 2\n",
              "  status: 0\n",
              " success: True\n",
              "       x: array([8.32667268e-17, 1.00000000e+00, 1.66533454e-16, 2.77555756e-17,\n",
              "       1.11022302e-16])"
            ]
          },
          "metadata": {
            "tags": []
          },
          "execution_count": 33
        }
      ]
    },
    {
      "cell_type": "code",
      "metadata": {
        "id": "7-VoxOAOUtk6",
        "colab_type": "code",
        "colab": {
          "base_uri": "https://localhost:8080/",
          "height": 50
        },
        "outputId": "ca21eaa9-4816-4f63-f4e5-cc8e3a6f5cb3"
      },
      "source": [
        "opt_results.x"
      ],
      "execution_count": 34,
      "outputs": [
        {
          "output_type": "execute_result",
          "data": {
            "text/plain": [
              "array([8.32667268e-17, 1.00000000e+00, 1.66533454e-16, 2.77555756e-17,\n",
              "       1.11022302e-16])"
            ]
          },
          "metadata": {
            "tags": []
          },
          "execution_count": 34
        }
      ]
    },
    {
      "cell_type": "code",
      "metadata": {
        "id": "P9oJCV5cUy_Y",
        "colab_type": "code",
        "colab": {
          "base_uri": "https://localhost:8080/",
          "height": 34
        },
        "outputId": "de3a8527-d33d-4ff1-d886-97656238c92f"
      },
      "source": [
        "get_ret_vol_sr(opt_results.x)"
      ],
      "execution_count": 35,
      "outputs": [
        {
          "output_type": "execute_result",
          "data": {
            "text/plain": [
              "array([0.54581908, 0.33596761, 1.62461816])"
            ]
          },
          "metadata": {
            "tags": []
          },
          "execution_count": 35
        }
      ]
    },
    {
      "cell_type": "code",
      "metadata": {
        "id": "y7vMCn8eU2fc",
        "colab_type": "code",
        "colab": {}
      },
      "source": [
        "frontier_y = np.linspace(-0.025,0.5,100)"
      ],
      "execution_count": 36,
      "outputs": []
    },
    {
      "cell_type": "code",
      "metadata": {
        "id": "pUKmkzBKVAeY",
        "colab_type": "code",
        "colab": {}
      },
      "source": [
        "def minimize_volatility(weights):\n",
        "    return  get_ret_vol_sr(weights)[1] "
      ],
      "execution_count": 37,
      "outputs": []
    },
    {
      "cell_type": "code",
      "metadata": {
        "id": "J7M5jeR0VEpI",
        "colab_type": "code",
        "colab": {}
      },
      "source": [
        "frontier_volatility = []\n",
        "\n",
        "for possible_return in frontier_y:\n",
        "    # function for return\n",
        "    cons = ({'type':'eq','fun': check_sum},\n",
        "            {'type':'eq','fun': lambda w: get_ret_vol_sr(w)[0] - possible_return})\n",
        "    \n",
        "    result = minimize(minimize_volatility,init_guess,method='SLSQP',bounds=bounds,constraints=cons)\n",
        "    \n",
        "    frontier_volatility.append(result['fun'])"
      ],
      "execution_count": 38,
      "outputs": []
    },
    {
      "cell_type": "code",
      "metadata": {
        "id": "wBC_Arc0VRjc",
        "colab_type": "code",
        "colab": {
          "base_uri": "https://localhost:8080/",
          "height": 514
        },
        "outputId": "8c7512eb-f234-4f44-e53b-8efdc779f109"
      },
      "source": [
        "plt.figure(figsize=(12,8))\n",
        "plt.scatter(vol_arr,ret_arr,c=sharpe_arr,cmap='plasma')\n",
        "plt.colorbar(label='Sharpe Ratio')\n",
        "plt.xlabel('Volatility')\n",
        "plt.ylabel('Return')\n",
        "\n",
        "# Add red dot for max SR\n",
        "plt.scatter(max_sr_vol,max_sr_ret,c='red',s=50,edgecolors='black')\n",
        "\n",
        "# Add frontier line\n",
        "plt.plot(frontier_volatility,frontier_y,'g--',linewidth=3)"
      ],
      "execution_count": 39,
      "outputs": [
        {
          "output_type": "execute_result",
          "data": {
            "text/plain": [
              "[<matplotlib.lines.Line2D at 0x7f0c40401dd8>]"
            ]
          },
          "metadata": {
            "tags": []
          },
          "execution_count": 39
        },
        {
          "output_type": "display_data",
          "data": {
            "image/png": "[encoded data removed]",
            "text/plain": [
              "<Figure size 864x576 with 2 Axes>"
            ]
          },
          "metadata": {
            "tags": [],
            "needs_background": "light"
          }
        }
      ]
    },
    {
      "cell_type": "code",
      "metadata": {
        "id": "EnBAUgYXVZ7N",
        "colab_type": "code",
        "colab": {}
      },
      "source": [
        ""
      ],
      "execution_count": 39,
      "outputs": []
    }
  ]
}